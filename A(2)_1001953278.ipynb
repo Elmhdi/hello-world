{
  "nbformat": 4,
  "nbformat_minor": 0,
  "metadata": {
    "colab": {
      "name": "A(2)_1001953278.ipynb",
      "provenance": [],
      "collapsed_sections": [],
      "authorship_tag": "ABX9TyOVkY/hbT1EjfARGNLk1LKd",
      "include_colab_link": true
    },
    "kernelspec": {
      "name": "python3",
      "display_name": "Python 3"
    },
    "language_info": {
      "name": "python"
    }
  },
  "cells": [
    {
      "cell_type": "markdown",
      "metadata": {
        "id": "view-in-github",
        "colab_type": "text"
      },
      "source": [
        "<a href=\"https://colab.research.google.com/github/Elmhdi/hello-world/blob/main/A(2)_1001953278.ipynb\" target=\"_parent\"><img src=\"https://colab.research.google.com/assets/colab-badge.svg\" alt=\"Open In Colab\"/></a>"
      ]
    },
    {
      "cell_type": "markdown",
      "metadata": {
        "id": "-yJ1xpQ1tYJs"
      },
      "source": [
        "*Case Study*"
      ]
    },
    {
      "cell_type": "code",
      "metadata": {
        "id": "JYwHFyuotjSc",
        "colab": {
          "base_uri": "https://localhost:8080/"
        },
        "outputId": "283903a4-c552-49ba-e076-7c15ae961dc3"
      },
      "source": [
        "# Develop complete solution to record 10 students name, ID and mark for each subject \n",
        "\n",
        "import pandas as pd\n",
        "Data = pd.read_csv('Student Record.csv')\n",
        "print(Data)\n",
        "\n",
        "def inputmark():\n",
        "  print('ENTER STUDENT ID: ')\n",
        "  id = int(input())\n",
        "  print('ENTER Exam MARK: ')\n",
        "  exam = int(input())\n",
        "  print('Enter ALL EXAM MARK: ')\n",
        "  MassTransfer = int(input())            # Mass Transfer\n",
        "  HeatTransfer = int(input())            # Heat Transfer\n",
        "  SurfaceChemistry = int(input())       # Surface Chemistry\n",
        "  Fuels = int(input())                   # Fuels\n",
        "  Petrochemical =int(input())            # Petrochemical\n",
        "\n",
        "  sum=(MassTransfer+HeatTransfer+SurfaceChemistry+Fuels+Petrochemical)\n",
        "  avge=sum/5\n",
        "\n",
        "  print('EXAM AVERAGE IS :'+str(avge))\n",
        "  print('Final mark is : ',calculate_mark(avge,exam))\n",
        "  print('Letter Grade is:', getgrade(calculate_mark(avge,exam)))\n",
        "  print_points(getgrade(calculate_mark(avge,exam)))\n",
        "\n",
        "  return avge\n",
        "def calculate_mark(avge,exam):\n",
        "  final_mark=0.4*avge+0.5*exam\n",
        "  return final_mark\n",
        "def getgrade(final_mark):\n",
        "      if 80<=final_mark<=100:\n",
        "          grade='A'\n",
        "      elif 79<=final_mark<=100:\n",
        "          grade='A-'\n",
        "      elif 74<=final_mark<=100:\n",
        "          grade='B+'\n",
        "      elif 69<=final_mark<=100:\n",
        "          grade='B'\n",
        "      elif 64<=final_mark<=100:\n",
        "          grade='B-'\n",
        "      elif 59<=final_mark<=100:\n",
        "          grade='C+'\n",
        "      elif 54<=final_mark<=100:\n",
        "          grade='C'\n",
        "      elif 49<=final_mark<=100:\n",
        "          grade='C-'\n",
        "      elif 39<=final_mark<=100:\n",
        "          grade='D'\n",
        "      else:\n",
        "        grade='F'\n",
        "        exit()\n",
        "        return grade\n",
        "def print_points(grade):\n",
        "  if grade=='A':\n",
        "    print('points : 4 ')\n",
        "  elif grade=='A-':\n",
        "    print('points : 3.67 ')\n",
        "  elif grade=='B+':\n",
        "    print('points : 3.33 ')\n",
        "  elif grade=='B':\n",
        "    print('points : 3 ')\n",
        "  elif grade=='B-':\n",
        "    print('points : 2.67 ')\n",
        "  elif grade=='C+':\n",
        "    print('points : 2.33 ')\n",
        "  elif grade=='C':\n",
        "    print('points : 2 ')\n",
        "  elif grade=='C-':\n",
        "    print('points : 1.67 ')\n",
        "  elif grade=='F':\n",
        "    print('points : 0')\n",
        "  else:\n",
        "      exit()\n",
        "inputmark()   \n",
        "\n"
      ],
      "execution_count": 2,
      "outputs": [
        {
          "output_type": "stream",
          "name": "stdout",
          "text": [
            "   No    Name    ID  ...  Surface Chemistry  Fuels  Petro Chemical\n",
            "0   1   Piers  2241  ...                 60     63              69\n",
            "1   2   Maria  2279  ...                 66     60              88\n",
            "2   3    Leah  2369  ...                 96     73              89\n",
            "3   4  Robert  2370  ...                 70     98              84\n",
            "4   5  Oliver  2391  ...                 60     76              78\n",
            "5   6    John  2456  ...                 92     68              93\n",
            "6   7     Joe  2460  ...                 53     83              72\n",
            "7   8    Anne  2461  ...                 64     93              51\n",
            "8   9  Yvonne  2521  ...                 96     97              52\n",
            "9  10  Adrian  2726  ...                 72     95              55\n",
            "\n",
            "[10 rows x 8 columns]\n",
            "ENTER STUDENT ID: \n",
            "2241\n",
            "ENTER Exam MARK: \n",
            "100\n",
            "Enter ALL EXAM MARK: \n",
            "75\n",
            "73\n",
            "60\n",
            "63\n",
            "69\n",
            "EXAM AVERAGE IS :68.0\n",
            "Final mark is :  77.2\n",
            "Letter Grade is: None\n"
          ]
        },
        {
          "output_type": "execute_result",
          "data": {
            "text/plain": [
              "68.0"
            ]
          },
          "metadata": {},
          "execution_count": 2
        }
      ]
    },
    {
      "cell_type": "code",
      "metadata": {
        "id": "IqgDrShivKqS"
      },
      "source": [
        ""
      ],
      "execution_count": null,
      "outputs": []
    }
  ]
}