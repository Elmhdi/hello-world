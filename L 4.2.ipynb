{
  "nbformat": 4,
  "nbformat_minor": 0,
  "metadata": {
    "colab": {
      "name": "Untitled7.ipynb",
      "provenance": [],
      "collapsed_sections": [],
      "authorship_tag": "ABX9TyPz/bnHJJD/aMhoI6G7bQMz",
      "include_colab_link": true
    },
    "kernelspec": {
      "name": "python3",
      "display_name": "Python 3"
    },
    "language_info": {
      "name": "python"
    }
  },
  "cells": [
    {
      "cell_type": "markdown",
      "metadata": {
        "id": "view-in-github",
        "colab_type": "text"
      },
      "source": [
        "<a href=\"https://colab.research.google.com/github/Elmhdi/hello-world/blob/main/L%204.2.ipynb\" target=\"_parent\"><img src=\"https://colab.research.google.com/assets/colab-badge.svg\" alt=\"Open In Colab\"/></a>"
      ]
    },
    {
      "cell_type": "code",
      "metadata": {
        "colab": {
          "base_uri": "https://localhost:8080/"
        },
        "id": "PFOR8bXNswgy",
        "outputId": "43382c37-9117-4e25-8d7d-5b6b40f8b4ba"
      },
      "source": [
        "T = [0, 8, 16, 24, 32, 40]\n",
        "Do = [14.621, 11.843, 9.870, 8.470, 7.305, 6.413]\n",
        "\n",
        "x = int(input('Specify T = '))\n",
        "for i in range (len(T)):\n",
        "  if (x>T[i] and x<T[i+1]):\n",
        "    print('Do Interpolation')\n",
        "    print('point A = ',i)\n",
        "    print('point B = ',i+1)\n",
        "    # Calculate interpolation\n",
        "    break\n",
        "  else:\n",
        "      print('Look another region')"
      ],
      "execution_count": 4,
      "outputs": [
        {
          "output_type": "stream",
          "name": "stdout",
          "text": [
            "Specify T = 22\n",
            "Look another region\n",
            "Look another region\n",
            "Do Interpolation\n",
            "point A =  2\n",
            "point B =  3\n"
          ]
        }
      ]
    }
  ]
}