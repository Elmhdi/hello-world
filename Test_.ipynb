{
  "nbformat": 4,
  "nbformat_minor": 0,
  "metadata": {
    "colab": {
      "name": "Test .ipynb",
      "provenance": [],
      "collapsed_sections": [],
      "authorship_tag": "ABX9TyPS/ckQnV2YWWNcsTzCi8VA",
      "include_colab_link": true
    },
    "kernelspec": {
      "name": "python3",
      "display_name": "Python 3"
    },
    "language_info": {
      "name": "python"
    }
  },
  "cells": [
    {
      "cell_type": "markdown",
      "metadata": {
        "id": "view-in-github",
        "colab_type": "text"
      },
      "source": [
        "<a href=\"https://colab.research.google.com/github/Elmhdi/hello-world/blob/main/Test_.ipynb\" target=\"_parent\"><img src=\"https://colab.research.google.com/assets/colab-badge.svg\" alt=\"Open In Colab\"/></a>"
      ]
    },
    {
      "cell_type": "markdown",
      "metadata": {
        "id": "vcovJjb3D4Ef"
      },
      "source": [
        "**Question 1**"
      ]
    },
    {
      "cell_type": "code",
      "metadata": {
        "id": "AmvwJVhcD-gH"
      },
      "source": [
        "import pandas as pd \n",
        "import matplotlib.pyplot as plt\n",
        "import scipy.optimize as so\n",
        "import mod-1 as m\n",
        "\n",
        "# A = suface area \n",
        "# e = emissivity\n",
        "#O = Stefan_Blotzmann constant\n",
        "#T = temperature K\n",
        "# Q = rate of radiation energy\n",
        "\n",
        "Data = pd.read_csv('data1.csv')\n",
        "X = Data.A\n",
        "Y = Data.e\n",
        "Z = Data.Temperature\n",
        "\n",
        "# plot all the poitnts from data (Expermintal data)\n",
        "plt.plot(X,Y,'.b')\n",
        "plt.xlabel('Temperature, T [K]')\n",
        "plt.ylabel('Area , A [m]')\n",
        "plt.title('Area vs Temperature')\n",
        "plt.grid()\n",
        "plt.show()\n",
        "\n",
        "def Q(A,e,O,T):\n",
        " A = 2.94\n",
        " B = 0.81\n",
        " C = 515\n",
        " O = 5.67*10**-8\n",
        " return A*e*O*T**4\n",
        "\n",
        "# caculate the coefficients\n",
        "a_sol, c = so.curve_fit(Q,X,Y)\n",
        "r = a_sol\n",
        "print(r)\n",
        "\n",
        "# Prediction data \n",
        "Y_head = P(X,r)\n",
        "plt.plot(X,Y,'.r',label = 'Y_data')\n",
        "plt.plot(X,Y_head,'.b',label = 'Y_head')\n",
        "plt.xlabel('Temperature, T [K]')\n",
        "plt.ylabel('radiation energy, P [Pa]')\n",
        "plt.title('radiation energy vs Temperature')\n",
        "plt.grid()\n",
        "plt.legend()\n",
        "plt.show()\n",
        "\n",
        "#Regeration\n",
        "Y_head = P(X,r)\n",
        "plt.plot(Y,Y,'r',label = 'Y_data')\n",
        "plt.plot(Y,Y_head,'.g',label = 'Y_head')\n",
        "plt.xlabel('radiation energy')\n",
        "plt.ylabel(' radiation energy Head')\n",
        "plt.title('radiation energy  vs radiation energy (Regression)')\n",
        "plt.grid()\n",
        "plt.legend()\n",
        "plt.show()\n",
        "\n",
        "# Calculate the error of radiation energy  between prediction and expermental data\n",
        "error = Qref - Q\n",
        "plt.bar(X,error,width = 2)\n",
        "plt.xlabel('Temperature, T [K]')\n",
        "plt.ylabel('Error')\n",
        "plt.title('Error Bar')\n",
        "plt.show()\n"
      ],
      "execution_count": null,
      "outputs": []
    },
    {
      "cell_type": "markdown",
      "metadata": {
        "id": "NIQKPZt3Nd1m"
      },
      "source": [
        "**Question 2**"
      ]
    },
    {
      "cell_type": "code",
      "metadata": {
        "id": "yxZNHH9eNi6c"
      },
      "source": [
        "\n",
        "import numpy as np\n",
        "import math as m\n",
        "import matplotlib.pyplot as plt\n",
        "# import mod-2 as md\n",
        "\n",
        "# g = 9.81\n",
        "# H = intial head(m)\n",
        "# L = pipe length(m)\n",
        "# t = elapsed time s from 0 to 12\n",
        "\n",
        "def V(g,H,t):\n",
        "  return m.sqrt(2*g*H)*np.tanh((m.sqrt(2*g*H)/2*L)*t)\n",
        "\n",
        "while(True):\n",
        "  try:\n",
        "    print('\\n======== MENEU ========')\n",
        "    print('[1] - Enter intial head')\n",
        "    print('[2] - Enter pipe length')\n",
        "    print('[3] - Enter elapsed time')\n",
        "    print('[4] - Calculate the velocity of water')\n",
        "    print('[5] - Exit')\n",
        "    opt = int(input('option: '))\n",
        "    if opt == 1:\n",
        "      input_H = float(input('intial head , H(m) = '))\n",
        "    elif opt == 2:\n",
        "      input_L = float(input('pipe length  , L(m) = '))\n",
        "    elif opt ==3:\n",
        "       input_t = float(input('elapsed time , s(sec) = '))\n",
        "    elif opt == 4:\n",
        "      ans = V(input_H,input_L,input_t)\n",
        "      print('Velocity of the water in the pipe = %0.3f m3'%ans)\n",
        "    elif opt == 4:\n",
        "      print('Exited . Thank you.')\n",
        "      break\n",
        "    else:\n",
        "        print('Out of selections!')\n",
        "  except:\n",
        "        print('oops! Wrong insert of selection!')\n",
        "        pass\n",
        "plt.(t,H,.r)\n",
        "plt.xlabel('Time ')\n",
        "plt.ylabel('Pressure Head')\n",
        "plt.title('Pressure Head over Time')\n",
        "plt.show()\n",
        "\n"
      ],
      "execution_count": null,
      "outputs": []
    }
  ]
}