{
  "nbformat": 4,
  "nbformat_minor": 0,
  "metadata": {
    "colab": {
      "name": "L6_2 EX.1.ipynb",
      "provenance": [],
      "collapsed_sections": [],
      "authorship_tag": "ABX9TyNIFxatGDFsHFdukvGTiac2",
      "include_colab_link": true
    },
    "kernelspec": {
      "name": "python3",
      "display_name": "Python 3"
    },
    "language_info": {
      "name": "python"
    }
  },
  "cells": [
    {
      "cell_type": "markdown",
      "metadata": {
        "id": "view-in-github",
        "colab_type": "text"
      },
      "source": [
        "<a href=\"https://colab.research.google.com/github/Elmhdi/hello-world/blob/main/L6_2_EX_1.ipynb\" target=\"_parent\"><img src=\"https://colab.research.google.com/assets/colab-badge.svg\" alt=\"Open In Colab\"/></a>"
      ]
    },
    {
      "cell_type": "markdown",
      "metadata": {
        "id": "oKnERa_uhdpU"
      },
      "source": [
        "**Topic(3)**"
      ]
    },
    {
      "cell_type": "code",
      "metadata": {
        "colab": {
          "base_uri": "https://localhost:8080/",
          "height": 867
        },
        "id": "mupSEVJ-oVYr",
        "outputId": "2c6cd07b-64d2-4fd8-a7e4-4e1918c98cfa"
      },
      "source": [
        "# Question 1\n",
        "\n",
        "import numpy as np\n",
        "\n",
        "x = np.array([(1,100)])\n",
        "\n",
        "for x in range(1,100):\n",
        " if x %2!=0:  # Odd number\n",
        "\n",
        "  display(x)\n",
        "\n",
        "  "
      ],
      "execution_count": null,
      "outputs": [
        {
          "output_type": "display_data",
          "data": {
            "text/plain": [
              "1"
            ]
          },
          "metadata": {}
        },
        {
          "output_type": "display_data",
          "data": {
            "text/plain": [
              "3"
            ]
          },
          "metadata": {}
        },
        {
          "output_type": "display_data",
          "data": {
            "text/plain": [
              "5"
            ]
          },
          "metadata": {}
        },
        {
          "output_type": "display_data",
          "data": {
            "text/plain": [
              "7"
            ]
          },
          "metadata": {}
        },
        {
          "output_type": "display_data",
          "data": {
            "text/plain": [
              "9"
            ]
          },
          "metadata": {}
        },
        {
          "output_type": "display_data",
          "data": {
            "text/plain": [
              "11"
            ]
          },
          "metadata": {}
        },
        {
          "output_type": "display_data",
          "data": {
            "text/plain": [
              "13"
            ]
          },
          "metadata": {}
        },
        {
          "output_type": "display_data",
          "data": {
            "text/plain": [
              "15"
            ]
          },
          "metadata": {}
        },
        {
          "output_type": "display_data",
          "data": {
            "text/plain": [
              "17"
            ]
          },
          "metadata": {}
        },
        {
          "output_type": "display_data",
          "data": {
            "text/plain": [
              "19"
            ]
          },
          "metadata": {}
        },
        {
          "output_type": "display_data",
          "data": {
            "text/plain": [
              "21"
            ]
          },
          "metadata": {}
        },
        {
          "output_type": "display_data",
          "data": {
            "text/plain": [
              "23"
            ]
          },
          "metadata": {}
        },
        {
          "output_type": "display_data",
          "data": {
            "text/plain": [
              "25"
            ]
          },
          "metadata": {}
        },
        {
          "output_type": "display_data",
          "data": {
            "text/plain": [
              "27"
            ]
          },
          "metadata": {}
        },
        {
          "output_type": "display_data",
          "data": {
            "text/plain": [
              "29"
            ]
          },
          "metadata": {}
        },
        {
          "output_type": "display_data",
          "data": {
            "text/plain": [
              "31"
            ]
          },
          "metadata": {}
        },
        {
          "output_type": "display_data",
          "data": {
            "text/plain": [
              "33"
            ]
          },
          "metadata": {}
        },
        {
          "output_type": "display_data",
          "data": {
            "text/plain": [
              "35"
            ]
          },
          "metadata": {}
        },
        {
          "output_type": "display_data",
          "data": {
            "text/plain": [
              "37"
            ]
          },
          "metadata": {}
        },
        {
          "output_type": "display_data",
          "data": {
            "text/plain": [
              "39"
            ]
          },
          "metadata": {}
        },
        {
          "output_type": "display_data",
          "data": {
            "text/plain": [
              "41"
            ]
          },
          "metadata": {}
        },
        {
          "output_type": "display_data",
          "data": {
            "text/plain": [
              "43"
            ]
          },
          "metadata": {}
        },
        {
          "output_type": "display_data",
          "data": {
            "text/plain": [
              "45"
            ]
          },
          "metadata": {}
        },
        {
          "output_type": "display_data",
          "data": {
            "text/plain": [
              "47"
            ]
          },
          "metadata": {}
        },
        {
          "output_type": "display_data",
          "data": {
            "text/plain": [
              "49"
            ]
          },
          "metadata": {}
        },
        {
          "output_type": "display_data",
          "data": {
            "text/plain": [
              "51"
            ]
          },
          "metadata": {}
        },
        {
          "output_type": "display_data",
          "data": {
            "text/plain": [
              "53"
            ]
          },
          "metadata": {}
        },
        {
          "output_type": "display_data",
          "data": {
            "text/plain": [
              "55"
            ]
          },
          "metadata": {}
        },
        {
          "output_type": "display_data",
          "data": {
            "text/plain": [
              "57"
            ]
          },
          "metadata": {}
        },
        {
          "output_type": "display_data",
          "data": {
            "text/plain": [
              "59"
            ]
          },
          "metadata": {}
        },
        {
          "output_type": "display_data",
          "data": {
            "text/plain": [
              "61"
            ]
          },
          "metadata": {}
        },
        {
          "output_type": "display_data",
          "data": {
            "text/plain": [
              "63"
            ]
          },
          "metadata": {}
        },
        {
          "output_type": "display_data",
          "data": {
            "text/plain": [
              "65"
            ]
          },
          "metadata": {}
        },
        {
          "output_type": "display_data",
          "data": {
            "text/plain": [
              "67"
            ]
          },
          "metadata": {}
        },
        {
          "output_type": "display_data",
          "data": {
            "text/plain": [
              "69"
            ]
          },
          "metadata": {}
        },
        {
          "output_type": "display_data",
          "data": {
            "text/plain": [
              "71"
            ]
          },
          "metadata": {}
        },
        {
          "output_type": "display_data",
          "data": {
            "text/plain": [
              "73"
            ]
          },
          "metadata": {}
        },
        {
          "output_type": "display_data",
          "data": {
            "text/plain": [
              "75"
            ]
          },
          "metadata": {}
        },
        {
          "output_type": "display_data",
          "data": {
            "text/plain": [
              "77"
            ]
          },
          "metadata": {}
        },
        {
          "output_type": "display_data",
          "data": {
            "text/plain": [
              "79"
            ]
          },
          "metadata": {}
        },
        {
          "output_type": "display_data",
          "data": {
            "text/plain": [
              "81"
            ]
          },
          "metadata": {}
        },
        {
          "output_type": "display_data",
          "data": {
            "text/plain": [
              "83"
            ]
          },
          "metadata": {}
        },
        {
          "output_type": "display_data",
          "data": {
            "text/plain": [
              "85"
            ]
          },
          "metadata": {}
        },
        {
          "output_type": "display_data",
          "data": {
            "text/plain": [
              "87"
            ]
          },
          "metadata": {}
        },
        {
          "output_type": "display_data",
          "data": {
            "text/plain": [
              "89"
            ]
          },
          "metadata": {}
        },
        {
          "output_type": "display_data",
          "data": {
            "text/plain": [
              "91"
            ]
          },
          "metadata": {}
        },
        {
          "output_type": "display_data",
          "data": {
            "text/plain": [
              "93"
            ]
          },
          "metadata": {}
        },
        {
          "output_type": "display_data",
          "data": {
            "text/plain": [
              "95"
            ]
          },
          "metadata": {}
        },
        {
          "output_type": "display_data",
          "data": {
            "text/plain": [
              "97"
            ]
          },
          "metadata": {}
        },
        {
          "output_type": "display_data",
          "data": {
            "text/plain": [
              "99"
            ]
          },
          "metadata": {}
        }
      ]
    },
    {
      "cell_type": "code",
      "metadata": {
        "colab": {
          "base_uri": "https://localhost:8080/",
          "height": 265
        },
        "id": "PGU0t1y0AIeW",
        "outputId": "927c2d9e-ed22-41bc-a185-45962961ef82"
      },
      "source": [
        "# Question 2\n",
        "import matplotlib.pyplot as plt\n",
        "import numpy as np\n",
        "# x = pi to 2*pi\n",
        "# y = sin(x)\n",
        "\n",
        "x = np.linspace(0,10,100)\n",
        "y = np.sin(x)\n",
        "\n",
        "plt.plot(x,y,'b')\n",
        "\n",
        "plt.show(3,0.5)"
      ],
      "execution_count": null,
      "outputs": [
        {
          "output_type": "display_data",
          "data": {
            "image/png": "[encoded data removed]",
            "text/plain": [
              "<Figure size 432x288 with 1 Axes>"
            ]
          },
          "metadata": {
            "needs_background": "light"
          }
        }
      ]
    },
    {
      "cell_type": "code",
      "metadata": {
        "colab": {
          "base_uri": "https://localhost:8080/",
          "height": 1000
        },
        "id": "GPBAch858982",
        "outputId": "2a6e3848-6dde-4da3-9fa2-f79b28588b25"
      },
      "source": [
        "# Question 3\n",
        "import numpy as np\n",
        "import matplotlib.pyplot as plt\n",
        "\n",
        "r,L = 2,5\n",
        "# Let\n",
        "hData = np.linspace(0,10,100)\n",
        "Xdata,Ydata =[],[]\n",
        "\n",
        "for h in hData:\n",
        "  V = (((r**2)*np.cos((r-h)/r)**(-1))-((r-h)*np.sqrt((2*r*h)-(h**2))))*L\n",
        "  Ydata.append(V)\n",
        "  Xdata.append(h)\n",
        "  print('For h = %0.3f; v = %0.5f'%(h,V))\n",
        "\n",
        "plt.plot(Xdata,Ydata)\n"
      ],
      "execution_count": 4,
      "outputs": [
        {
          "output_type": "stream",
          "name": "stdout",
          "text": [
            "For h = 0.000; v = 37.01631\n",
            "For h = 0.101; v = 28.40003\n",
            "For h = 0.202; v = 24.25903\n",
            "For h = 0.303; v = 21.27096\n",
            "For h = 0.404; v = 19.02836\n",
            "For h = 0.505; v = 17.33915\n",
            "For h = 0.606; v = 16.08678\n",
            "For h = 0.707; v = 15.19147\n",
            "For h = 0.808; v = 14.59468\n",
            "For h = 0.909; v = 14.25143\n",
            "For h = 1.010; v = 14.12601\n",
            "For h = 1.111; v = 14.18936\n",
            "For h = 1.212; v = 14.41731\n",
            "For h = 1.313; v = 14.78945\n",
            "For h = 1.414; v = 15.28827\n",
            "For h = 1.515; v = 15.89858\n",
            "For h = 1.616; v = 16.60704\n",
            "For h = 1.717; v = 17.40180\n",
            "For h = 1.818; v = 18.27228\n",
            "For h = 1.919; v = 19.20892\n",
            "For h = 2.020; v = 20.20303\n",
            "For h = 2.121; v = 21.24668\n",
            "For h = 2.222; v = 22.33256\n",
            "For h = 2.323; v = 23.45390\n",
            "For h = 2.424; v = 24.60443\n",
            "For h = 2.525; v = 25.77827\n",
            "For h = 2.626; v = 26.96991\n",
            "For h = 2.727; v = 28.17415\n",
            "For h = 2.828; v = 29.38602\n",
            "For h = 2.929; v = 30.60072\n",
            "For h = 3.030; v = 31.81346\n",
            "For h = 3.131; v = 33.01930\n",
            "For h = 3.232; v = 34.21274\n",
            "For h = 3.333; v = 35.38702\n",
            "For h = 3.434; v = 36.53279\n",
            "For h = 3.535; v = 37.63519\n",
            "For h = 3.636; v = 38.66747\n",
            "For h = 3.737; v = 39.57420\n",
            "For h = 3.838; v = 40.21785\n",
            "For h = 3.939; v = 40.10199\n",
            "For h = 4.040; v = nan\n",
            "For h = 4.141; v = nan\n",
            "For h = 4.242; v = nan\n",
            "For h = 4.343; v = nan\n",
            "For h = 4.444; v = nan\n",
            "For h = 4.545; v = nan\n",
            "For h = 4.646; v = nan\n",
            "For h = 4.747; v = nan\n",
            "For h = 4.848; v = nan\n",
            "For h = 4.949; v = nan\n",
            "For h = 5.051; v = nan\n",
            "For h = 5.152; v = nan\n",
            "For h = 5.253; v = nan\n",
            "For h = 5.354; v = nan\n",
            "For h = 5.455; v = nan\n",
            "For h = 5.556; v = nan\n",
            "For h = 5.657; v = nan\n",
            "For h = 5.758; v = nan\n",
            "For h = 5.859; v = nan\n",
            "For h = 5.960; v = nan\n",
            "For h = 6.061; v = nan\n",
            "For h = 6.162; v = nan\n",
            "For h = 6.263; v = nan\n",
            "For h = 6.364; v = nan\n",
            "For h = 6.465; v = nan\n",
            "For h = 6.566; v = nan\n",
            "For h = 6.667; v = nan\n",
            "For h = 6.768; v = nan\n",
            "For h = 6.869; v = nan\n",
            "For h = 6.970; v = nan\n",
            "For h = 7.071; v = nan\n",
            "For h = 7.172; v = nan\n",
            "For h = 7.273; v = nan\n",
            "For h = 7.374; v = nan\n",
            "For h = 7.475; v = nan\n",
            "For h = 7.576; v = nan\n",
            "For h = 7.677; v = nan\n",
            "For h = 7.778; v = nan\n",
            "For h = 7.879; v = nan\n",
            "For h = 7.980; v = nan\n",
            "For h = 8.081; v = nan\n",
            "For h = 8.182; v = nan\n",
            "For h = 8.283; v = nan\n",
            "For h = 8.384; v = nan\n",
            "For h = 8.485; v = nan\n",
            "For h = 8.586; v = nan\n",
            "For h = 8.687; v = nan\n",
            "For h = 8.788; v = nan\n",
            "For h = 8.889; v = nan\n",
            "For h = 8.990; v = nan\n",
            "For h = 9.091; v = nan\n",
            "For h = 9.192; v = nan\n",
            "For h = 9.293; v = nan\n",
            "For h = 9.394; v = nan\n",
            "For h = 9.495; v = nan\n",
            "For h = 9.596; v = nan\n",
            "For h = 9.697; v = nan\n",
            "For h = 9.798; v = nan\n",
            "For h = 9.899; v = nan\n",
            "For h = 10.000; v = nan\n"
          ]
        },
        {
          "output_type": "stream",
          "name": "stderr",
          "text": [
            "/usr/local/lib/python3.7/dist-packages/ipykernel_launcher.py:11: RuntimeWarning: invalid value encountered in sqrt\n",
            "  # This is added back by InteractiveShellApp.init_path()\n"
          ]
        },
        {
          "output_type": "execute_result",
          "data": {
            "text/plain": [
              "[<matplotlib.lines.Line2D at 0x7f7b69ac1a10>]"
            ]
          },
          "metadata": {},
          "execution_count": 4
        },
        {
          "output_type": "display_data",
          "data": {
            "image/png": "[encoded data removed]",
            "text/plain": [
              "<Figure size 432x288 with 1 Axes>"
            ]
          },
          "metadata": {
            "needs_background": "light"
          }
        }
      ]
    }
  ]
}