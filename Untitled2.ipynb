{
  "nbformat": 4,
  "nbformat_minor": 0,
  "metadata": {
    "colab": {
      "name": "Untitled2.ipynb",
      "provenance": [],
      "collapsed_sections": [],
      "authorship_tag": "ABX9TyO+yKyuPKJb1lLqzKzZI4nv",
      "include_colab_link": true
    },
    "kernelspec": {
      "name": "python3",
      "display_name": "Python 3"
    },
    "language_info": {
      "name": "python"
    }
  },
  "cells": [
    {
      "cell_type": "markdown",
      "metadata": {
        "id": "view-in-github",
        "colab_type": "text"
      },
      "source": [
        "<a href=\"https://colab.research.google.com/github/Elmhdi/hello-world/blob/main/Untitled2.ipynb\" target=\"_parent\"><img src=\"https://colab.research.google.com/assets/colab-badge.svg\" alt=\"Open In Colab\"/></a>"
      ]
    },
    {
      "cell_type": "code",
      "metadata": {
        "id": "Vq430e9mLITG"
      },
      "source": [
        "a = 1;\n"
      ],
      "execution_count": 1,
      "outputs": []
    },
    {
      "cell_type": "code",
      "metadata": {
        "colab": {
          "base_uri": "https://localhost:8080/"
        },
        "id": "vNE0wD9gOPFn",
        "outputId": "abaaecac-8ace-4cb8-b67d-5e8da3c8e8bc"
      },
      "source": [
        "n = [0.035, 0.020, 0.015, 0.030, 0.022]\n",
        "S = [0.001, 0.0002, 0.001, 0.007, 0.003]\n",
        "B = [10, 8, 20, 24, 15]\n",
        "H = [2, 1, 1.5, 3, 2.5]\n",
        "Ch = ['A', 'B', 'C', 'D', 'E']\n",
        "\n",
        "for i in range(5):\n",
        "  U = S[i]**0.5/n[i]*(B[i]*H[i]/(B[i]+2*H[i]))**(2/3)\n",
        "  res = (Ch[i],n[i],S[i],B[i],H[i],U)\n",
        "  print ('Channel %s: n = %0.4f, S = %0.4f, B = %d, H = %d, U = %0.4f'%res)"
      ],
      "execution_count": 6,
      "outputs": [
        {
          "output_type": "stream",
          "name": "stdout",
          "text": [
            "Channel A: n = 0.0350, S = 0.0010, B = 10, H = 2, U = 1.1460\n",
            "Channel B: n = 0.0200, S = 0.0002, B = 8, H = 1, U = 0.6094\n",
            "Channel C: n = 0.0150, S = 0.0010, B = 20, H = 1, U = 2.5167\n",
            "Channel D: n = 0.0300, S = 0.0070, B = 24, H = 3, U = 4.9992\n",
            "Channel E: n = 0.0220, S = 0.0030, B = 15, H = 2, U = 3.7856\n"
          ]
        }
      ]
    },
    {
      "cell_type": "code",
      "metadata": {
        "colab": {
          "base_uri": "https://localhost:8080/"
        },
        "id": "LuqIystEVluT",
        "outputId": "e839dbfe-e200-4825-8411-e0c15b74817a"
      },
      "source": [
        "# Challenge \n",
        "T = [0, 8, 16, 24, 32, 40]\n",
        "Do = [14.621, 11.843, 9.870, 8.470, 7.305, 6.413]\n",
        "\n",
        "x = 24\n",
        "x1,x2 = T[2], T[4]\n",
        "y1,y2 = Do[2], Do[4]\n",
        "\n",
        "y = (y1*(x2-x)+y2*(x-x1))/(x2-x1)\n",
        "y\n",
        "\n",
        "\n"
      ],
      "execution_count": 9,
      "outputs": [
        {
          "output_type": "execute_result",
          "data": {
            "text/plain": [
              "8.587499999999999"
            ]
          },
          "metadata": {},
          "execution_count": 9
        }
      ]
    }
  ]
}