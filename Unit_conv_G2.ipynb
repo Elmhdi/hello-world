{
  "nbformat": 4,
  "nbformat_minor": 0,
  "metadata": {
    "colab": {
      "name": "Unit conv-G2.ipynb",
      "provenance": [],
      "collapsed_sections": [],
      "authorship_tag": "ABX9TyOzCRCRep7jwh1Lqqw6bc9j",
      "include_colab_link": true
    },
    "kernelspec": {
      "name": "python3",
      "display_name": "Python 3"
    },
    "language_info": {
      "name": "python"
    }
  },
  "cells": [
    {
      "cell_type": "markdown",
      "metadata": {
        "id": "view-in-github",
        "colab_type": "text"
      },
      "source": [
        "<a href=\"https://colab.research.google.com/github/Elmhdi/hello-world/blob/main/Unit_conv_G2.ipynb\" target=\"_parent\"><img src=\"https://colab.research.google.com/assets/colab-badge.svg\" alt=\"Open In Colab\"/></a>"
      ]
    },
    {
      "cell_type": "markdown",
      "metadata": {
        "id": "RW9lhFy6l45N"
      },
      "source": [
        "**Unit Conversion**"
      ]
    },
    {
      "cell_type": "code",
      "metadata": {
        "colab": {
          "base_uri": "https://localhost:8080/"
        },
        "id": "ffe9JUVNl_Pa",
        "outputId": "f7c1a8c7-0a43-40df-f00a-044c0511931a"
      },
      "source": [
        "# Unit Conversion\n",
        "\n",
        "# Temperature SI unit _Kelvin (K)\n",
        "# Temperature English unit _Fahrenheit (F)\n",
        "# Length English unit _Feet (ft)\n",
        "# Length SI unit _Meter (m)\n",
        "\n",
        "def print_menu():\n",
        "    print('-------------------------------------------------------------------')\n",
        "    print('List of choices')\n",
        "    print('1.Fahrenheit to Kelvin')\n",
        "    print('2.Feet square to Meter square')\n",
        "    print('3.Kelvin to Fahrenheit')\n",
        "    print('4.Meter square to Feet square')\n",
        "    print('Press enter to continue')\n",
        "\n",
        "# Convert from English unit to SI unit\n",
        "\n",
        "def F_K():\n",
        "    F = float(input('Enter the Temperature value in Fahrenheit: '))\n",
        "    K = ((F - 32) * 5 / 9) + 273.15\n",
        "    return K\n",
        "\n",
        "\n",
        "def ftSq_mSq():\n",
        "    ft = float(input('Enter the value of Length in Feet square: '))\n",
        "    m = ft / 10.764\n",
        "    return m\n",
        "\n",
        "#==========================================================================#\n",
        "\n",
        "# Convert from SI unit to English unit\n",
        "\n",
        "def K_F():\n",
        "    K = float(input('Enter the Temperature value in Kelvin: '))\n",
        "    F = ((K - 273.15) * 9 / 5) + 32\n",
        "    return F\n",
        "\n",
        "\n",
        "def mSq_ftSq():\n",
        "    m = float(input('Enter the value of Length in Meter square: '))\n",
        "    ft = 10.764 * m\n",
        "    return ft\n",
        "\n",
        "#=============================================================================#\n",
        "for i in range(2):\n",
        "    if i == 0:\n",
        "        print('--------------------------------------------------------------')\n",
        "        print(\"First choice\")\n",
        "    else:\n",
        "        print('--------------------------------------------------------------')\n",
        "        print(\"Second choice\")\n",
        "\n",
        "        # please choose (1 & 2) or (3 & 4)\n",
        "\n",
        "    print_menu()\n",
        "    option = input('Please enter a choice: ')\n",
        "    if option == '1':\n",
        "        print(f\"Temperature in Kelvin is: {F_K():g}\")\n",
        "    elif option == '2':\n",
        "        print(f\"Equivalent Meter square is: {ftSq_mSq():g}\")\n",
        "    elif option == '3':\n",
        "        print(f\"Temperature in Kelvin is: {K_F():g}\")\n",
        "    elif option == '4':\n",
        "        print(f\"Equivalent Feet square is: {mSq_ftSq():g}\")\n",
        "    else:\n",
        "        print(\"out of  selections\")\n",
        "\n",
        "\n"
      ],
      "execution_count": 5,
      "outputs": [
        {
          "output_type": "stream",
          "name": "stdout",
          "text": [
            "--------------------------------------------------------------\n",
            "First choice\n",
            "-----------------------------------------------------------------\n",
            "List of choices\n",
            "1.Fahrenheit to Kelvin\n",
            "2.Feet square to Meter square\n",
            "3.Kelvin to Fahrenheit\n",
            "4.Meter square to Feet square\n",
            "Press enter to continue\n",
            "Please enter a choice: 1\n",
            "Enter the Temperature value in Fahrenheit: 44\n",
            "Temperature in Kelvin is: 279.817\n",
            "--------------------------------------------------------------\n",
            "Second choice\n",
            "-----------------------------------------------------------------\n",
            "List of choices\n",
            "1.Fahrenheit to Kelvin\n",
            "2.Feet square to Meter square\n",
            "3.Kelvin to Fahrenheit\n",
            "4.Meter square to Feet square\n",
            "Press enter to continue\n",
            "Please enter a choice: 2\n",
            "Enter the value of Length in Feet square: 66\n",
            "Equivalent Meter square is: 6.13155\n"
          ]
        }
      ]
    }
  ]
}