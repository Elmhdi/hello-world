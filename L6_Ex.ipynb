{
  "nbformat": 4,
  "nbformat_minor": 0,
  "metadata": {
    "colab": {
      "name": "L6_Ex.ipynb",
      "provenance": [],
      "collapsed_sections": [],
      "authorship_tag": "ABX9TyM4Yz06N1/uClWCPlpYvO0R",
      "include_colab_link": true
    },
    "kernelspec": {
      "name": "python3",
      "display_name": "Python 3"
    },
    "language_info": {
      "name": "python"
    }
  },
  "cells": [
    {
      "cell_type": "markdown",
      "metadata": {
        "id": "view-in-github",
        "colab_type": "text"
      },
      "source": [
        "<a href=\"https://colab.research.google.com/github/Elmhdi/hello-world/blob/main/L6_Ex.ipynb\" target=\"_parent\"><img src=\"https://colab.research.google.com/assets/colab-badge.svg\" alt=\"Open In Colab\"/></a>"
      ]
    },
    {
      "cell_type": "markdown",
      "metadata": {
        "id": "eHU8dCbL_bbc"
      },
      "source": [
        "**Topic(2)**"
      ]
    },
    {
      "cell_type": "code",
      "metadata": {
        "colab": {
          "base_uri": "https://localhost:8080/"
        },
        "id": "rD3VoE04MQIS",
        "outputId": "99cfdfb1-c4ca-4476-e837-c0a030e068ee"
      },
      "source": [
        "# Question 1\n",
        "x = float(input('input x: ' ))\n",
        "y = float(input('input y: ' ))\n",
        "\n",
        "Ans = (x+y**2)*(x+3*y)\n",
        "print('Ans = %0.4f'%Ans)\n"
      ],
      "execution_count": 16,
      "outputs": [
        {
          "output_type": "stream",
          "name": "stdout",
          "text": [
            "input x: 3\n",
            "input y: 1.2\n",
            "Ans = 29.3040\n"
          ]
        }
      ]
    },
    {
      "cell_type": "code",
      "metadata": {
        "colab": {
          "base_uri": "https://localhost:8080/"
        },
        "id": "L_RVd3tFNzQW",
        "outputId": "29572912-93fe-4318-cdce-41e0428545ce"
      },
      "source": [
        "# Question 2\n",
        "x = int(input('value = '))\n",
        "mm_to_ft = x/305\n",
        "cm_to_ft = x/30.48\n",
        "m_to_ft = x*3.281\n",
        "\n",
        "print('mm to ft  = %0.3f'%mm_to_ft)\n",
        "print('cm to ft  = %0.3f'%cm_to_ft)\n",
        "print('m  to ft  = %0.3f'%m_to_ft)\n"
      ],
      "execution_count": 21,
      "outputs": [
        {
          "output_type": "stream",
          "name": "stdout",
          "text": [
            "value = 1\n",
            "mm to ft  = 0.003\n",
            "cm to ft  = 0.033\n",
            "m  to ft  = 3.281\n"
          ]
        }
      ]
    },
    {
      "cell_type": "code",
      "metadata": {
        "colab": {
          "base_uri": "https://localhost:8080/"
        },
        "id": "_ZlGERM4PpnW",
        "outputId": "4a4cc5a8-844b-447e-bfaa-688a761169cf"
      },
      "source": [
        "# Question 3\n",
        "import math as m\n",
        "angle = 10\n",
        "a = 5\n",
        "o = (m.tan(angle))*a\n",
        "c = ((a**2)+(o**2))**0.5\n",
        "print(o)\n"
      ],
      "execution_count": 22,
      "outputs": [
        {
          "output_type": "stream",
          "name": "stdout",
          "text": [
            "3.241804137295433\n"
          ]
        }
      ]
    },
    {
      "cell_type": "code",
      "metadata": {
        "colab": {
          "base_uri": "https://localhost:8080/"
        },
        "id": "HM8etrWE5v5b",
        "outputId": "2f242a54-5282-4cff-92c0-79bd5fefac08"
      },
      "source": [
        "# Question 4\n",
        "a,b,count = 0,100,0\n",
        "for i in range(a,b):\n",
        "  if i > 1:\n",
        "    for j in range (2,i):\n",
        "      if i%j == 0:\n",
        "        break\n",
        "    else:\n",
        "     print('%d is prime number' %i)\n",
        "     count += 1\n",
        "     print ('Total prime number is %d' %count)"
      ],
      "execution_count": 14,
      "outputs": [
        {
          "output_type": "stream",
          "name": "stdout",
          "text": [
            "2 is prime number\n",
            "Total prime number is 1\n",
            "3 is prime number\n",
            "Total prime number is 2\n",
            "5 is prime number\n",
            "Total prime number is 3\n",
            "7 is prime number\n",
            "Total prime number is 4\n",
            "11 is prime number\n",
            "Total prime number is 5\n",
            "13 is prime number\n",
            "Total prime number is 6\n",
            "17 is prime number\n",
            "Total prime number is 7\n",
            "19 is prime number\n",
            "Total prime number is 8\n",
            "23 is prime number\n",
            "Total prime number is 9\n",
            "29 is prime number\n",
            "Total prime number is 10\n",
            "31 is prime number\n",
            "Total prime number is 11\n",
            "37 is prime number\n",
            "Total prime number is 12\n",
            "41 is prime number\n",
            "Total prime number is 13\n",
            "43 is prime number\n",
            "Total prime number is 14\n",
            "47 is prime number\n",
            "Total prime number is 15\n",
            "53 is prime number\n",
            "Total prime number is 16\n",
            "59 is prime number\n",
            "Total prime number is 17\n",
            "61 is prime number\n",
            "Total prime number is 18\n",
            "67 is prime number\n",
            "Total prime number is 19\n",
            "71 is prime number\n",
            "Total prime number is 20\n",
            "73 is prime number\n",
            "Total prime number is 21\n",
            "79 is prime number\n",
            "Total prime number is 22\n",
            "83 is prime number\n",
            "Total prime number is 23\n",
            "89 is prime number\n",
            "Total prime number is 24\n",
            "97 is prime number\n",
            "Total prime number is 25\n"
          ]
        }
      ]
    }
  ]
}