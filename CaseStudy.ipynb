{
  "nbformat": 4,
  "nbformat_minor": 0,
  "metadata": {
    "colab": {
      "name": "CaseStudy.ipynb",
      "provenance": [],
      "collapsed_sections": [],
      "authorship_tag": "ABX9TyMd2RTIv6Jxq4mN1sg/2Ihy",
      "include_colab_link": true
    },
    "kernelspec": {
      "name": "python3",
      "display_name": "Python 3"
    },
    "language_info": {
      "name": "python"
    }
  },
  "cells": [
    {
      "cell_type": "markdown",
      "metadata": {
        "id": "view-in-github",
        "colab_type": "text"
      },
      "source": [
        "<a href=\"https://colab.research.google.com/github/Elmhdi/hello-world/blob/main/CaseStudy.ipynb\" target=\"_parent\"><img src=\"https://colab.research.google.com/assets/colab-badge.svg\" alt=\"Open In Colab\"/></a>"
      ]
    },
    {
      "cell_type": "code",
      "metadata": {
        "colab": {
          "base_uri": "https://localhost:8080/"
        },
        "id": "7OmCKVkZBYST",
        "outputId": "ae0c8381-0e6c-44ee-8420-823c8fb8b28c"
      },
      "source": [
        "import numpy as np\n",
        "\n",
        "rhop = 1800\n",
        "Dp = 0.208e-3\n",
        "rho = 994.6\n",
        "u = 8.931*10\n",
        "g = 9.81\n",
        "#Let\n",
        "Re = 100\n",
        "count = 0\n",
        "while(True):\n",
        "  #Cd = f(Re)\n",
        "  if Re<0.1:\n",
        "    Cd=24/Re\n",
        "  elif Re>=0.1 and Re<1000:\n",
        "    Cd = 24/Re*(1+0.14*Re**0.7)\n",
        "  elif Re>=1000 and Re<350000:\n",
        "    Cd = 0.44\n",
        "  elif Re >= 350000:\n",
        "    Cd = 0.19-8e4/Re\n",
        "\n",
        "  Vt = np.sqrt(4*g*(rhop-rho)*Dp/(3*Cd*rho))\n",
        "  Re_hat = Dp*Vt/u\n",
        "  e = Re - Re_hat\n",
        "\n",
        "  if(e>0):\n",
        "   Re = Re + Re/2\n",
        "  elif(e<0):\n",
        "    Re = Re - Re/2\n",
        "  else:\n",
        "   break\n",
        "  if(count>500):\n",
        "     break\n",
        "  count+=1\n",
        "\n",
        "print(e) # Target to find amallest e possible \n"
      ],
      "execution_count": 29,
      "outputs": [
        {
          "output_type": "stream",
          "name": "stdout",
          "text": [
            "1.6661756639198928e+90\n"
          ]
        }
      ]
    },
    {
      "cell_type": "code",
      "metadata": {
        "colab": {
          "base_uri": "https://localhost:8080/"
        },
        "id": "xQkym82ANzTa",
        "outputId": "a59e09d3-fdd4-4197-e4ee-d531096f9ace"
      },
      "source": [
        "print(Re)\n",
        "if Re<0.1:\n",
        "    Cd=24/Re\n",
        "elif Re>=0.1 and Re<1000:\n",
        "    Cd = 24/Re*(1+0.14*Re**0.7)\n",
        "elif Re>=1000 and Re<350000:\n",
        "    Cd = 0.44\n",
        "elif Re >= 350000:\n",
        "    Cd = 0.19-8e4/Re\n",
        "\n",
        "Vt = np.sqrt(4*g*(rhop-rho)*Dp/(3*Cd*rho))\n",
        "print('Vt = %0.5f'%Vt)"
      ],
      "execution_count": 30,
      "outputs": [
        {
          "output_type": "stream",
          "name": "stdout",
          "text": [
            "2.4992634958798394e+90\n",
            "Vt = 0.10768\n"
          ]
        }
      ]
    },
    {
      "cell_type": "code",
      "metadata": {
        "colab": {
          "base_uri": "https://localhost:8080/",
          "height": 452
        },
        "id": "aUsX05xWPwNR",
        "outputId": "9c1df1d2-1178-4e61-e5f3-778208c3fca9"
      },
      "source": [
        "# ii\n",
        "import numpy as np\n",
        "import matplotlib.pyplot as plt\n",
        "\n",
        "rhop = 1800\n",
        "Dp = 0.208e-3\n",
        "rho = 994.6\n",
        "u = 8.931*10\n",
        "g = 9.81\n",
        "#Let\n",
        "ReData = np.linspace(100,5000,10)\n",
        "count = 0\n",
        "Xdata,Ydata=[],[]\n",
        "\n",
        "for Re in ReData:\n",
        "  #Cd = f(Re)\n",
        "  if Re<0.1:\n",
        "    Cd=24/Re\n",
        "  elif Re>=0.1 and Re<1000:\n",
        "    Cd = 24/Re*(1+0.14*Re**0.7)\n",
        "  elif Re>=1000 and Re<350000:\n",
        "    Cd = 0.44\n",
        "  elif Re >= 350000:\n",
        "    Cd = 0.19-8e4/Re\n",
        "\n",
        "  Vt = np.sqrt(4*g*(rhop-rho)*Dp/(3*Cd*rho))\n",
        "  Ydata.append(Vt)\n",
        "  Xdata.append(Re)\n",
        "  print(Vt)\n",
        "\n",
        "plt.plot(Xdata,Ydata)"
      ],
      "execution_count": 37,
      "outputs": [
        {
          "output_type": "stream",
          "name": "stdout",
          "text": [
            "0.04508205633207572\n",
            "0.0651003632987819\n",
            "0.07076048263274151\n",
            "0.07076048263274151\n",
            "0.07076048263274151\n",
            "0.07076048263274151\n",
            "0.07076048263274151\n",
            "0.07076048263274151\n",
            "0.07076048263274151\n",
            "0.07076048263274151\n"
          ]
        },
        {
          "output_type": "execute_result",
          "data": {
            "text/plain": [
              "[<matplotlib.lines.Line2D at 0x7fd110e57110>]"
            ]
          },
          "metadata": {},
          "execution_count": 37
        },
        {
          "output_type": "display_data",
          "data": {
            "image/png": "[encoded data removed]",
            "text/plain": [
              "<Figure size 432x288 with 1 Axes>"
            ]
          },
          "metadata": {
            "needs_background": "light"
          }
        }
      ]
    }
  ]
}