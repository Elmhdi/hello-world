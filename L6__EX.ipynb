{
  "nbformat": 4,
  "nbformat_minor": 0,
  "metadata": {
    "colab": {
      "name": "L6_ EX.ipynb",
      "provenance": [],
      "collapsed_sections": [],
      "authorship_tag": "ABX9TyN5YJuxhVnvnYVAP26CKuti",
      "include_colab_link": true
    },
    "kernelspec": {
      "name": "python3",
      "display_name": "Python 3"
    },
    "language_info": {
      "name": "python"
    }
  },
  "cells": [
    {
      "cell_type": "markdown",
      "metadata": {
        "id": "view-in-github",
        "colab_type": "text"
      },
      "source": [
        "<a href=\"https://colab.research.google.com/github/Elmhdi/hello-world/blob/main/L6__EX.ipynb\" target=\"_parent\"><img src=\"https://colab.research.google.com/assets/colab-badge.svg\" alt=\"Open In Colab\"/></a>"
      ]
    },
    {
      "cell_type": "markdown",
      "metadata": {
        "id": "MbGKJ1w7_y3j"
      },
      "source": [
        "**Topic(1)**"
      ]
    },
    {
      "cell_type": "code",
      "metadata": {
        "colab": {
          "base_uri": "https://localhost:8080/"
        },
        "id": "5mKFLL6YHMPh",
        "outputId": "5aa934bc-6743-4fd5-b6cd-7f9897feff37"
      },
      "source": [
        " # Question 1\n",
        " pi = 3.14\n",
        " radius = 1.2 # m\n",
        " area = pi *(radius**2)\n",
        " print ('The area of circle is %0.3f m**2'%area)"
      ],
      "execution_count": 22,
      "outputs": [
        {
          "output_type": "stream",
          "name": "stdout",
          "text": [
            "The area of circle is 4.522 m**2\n"
          ]
        }
      ]
    },
    {
      "cell_type": "code",
      "metadata": {
        "colab": {
          "base_uri": "https://localhost:8080/"
        },
        "id": "Hjw8aC7x_5H8",
        "outputId": "4ddc5208-828f-4e47-8f17-d2c0913e31be"
      },
      "source": [
        "# Question 2\n",
        "x = 100\n",
        "y = 1000\n",
        "Z = int(input('input Z value between x to y = '))\n",
        "if Z < 100:\n",
        "  print('Error ! the value not within range')\n",
        "elif Z > 1000:\n",
        "  print('Error ! the value not within range')\n",
        "else:\n",
        "  print('The value of Z = %d'%Z) \n"
      ],
      "execution_count": 36,
      "outputs": [
        {
          "output_type": "stream",
          "name": "stdout",
          "text": [
            "input Z value between x to y = 300\n",
            "The value of Z = 300\n"
          ]
        }
      ]
    },
    {
      "cell_type": "code",
      "metadata": {
        "colab": {
          "base_uri": "https://localhost:8080/"
        },
        "id": "UYhAgBZII55S",
        "outputId": "06d648a9-4dc3-4c3c-c26a-29ee64239797"
      },
      "source": [
        "# Question 3\n",
        "ans = 1;\n",
        "for i in range(10):\n",
        "  x = int(input('input x = '))\n",
        "  ans = ans*x\n",
        "print('Answer = %d'%ans)"
      ],
      "execution_count": 26,
      "outputs": [
        {
          "output_type": "stream",
          "name": "stdout",
          "text": [
            "input x = 1\n",
            "input x = 2\n",
            "input x = 3\n",
            "input x = 4\n",
            "input x = 5\n",
            "input x = 6\n",
            "input x = 7\n",
            "input x = 8\n",
            "input x = 9\n",
            "input x = 10\n",
            "Answer = 3628800\n"
          ]
        }
      ]
    },
    {
      "cell_type": "code",
      "metadata": {
        "colab": {
          "base_uri": "https://localhost:8080/"
        },
        "id": "hBGlHwZdKV48",
        "outputId": "17a55520-2e7a-483a-f83d-97a540dee8ab"
      },
      "source": [
        "# Question 4\n",
        "X = [10, 20, 20, 20]\n",
        "Y = [10, 25, 30, 40]\n",
        "\n",
        "total_possible_match = 0\n",
        "\n",
        "for xvalue in X:\n",
        "  for yvalue in Y:\n",
        "    Z = xvalue + yvalue\n",
        "    if Z > 50:\n",
        "      total_possible_match +=1\n",
        "print('The total possible match of summation between X and Y is %d'%total_possible_match)\n",
        "\n"
      ],
      "execution_count": 34,
      "outputs": [
        {
          "output_type": "stream",
          "name": "stdout",
          "text": [
            "The total possible match of summation between X and Y is 3\n"
          ]
        }
      ]
    }
  ]
}