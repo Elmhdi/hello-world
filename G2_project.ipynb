{
  "nbformat": 4,
  "nbformat_minor": 0,
  "metadata": {
    "colab": {
      "name": "G2-project.ipynb",
      "provenance": [],
      "collapsed_sections": [],
      "authorship_tag": "ABX9TyP/KrKje46v/9hD3W6aUc4G",
      "include_colab_link": true
    },
    "kernelspec": {
      "name": "python3",
      "display_name": "Python 3"
    },
    "language_info": {
      "name": "python"
    }
  },
  "cells": [
    {
      "cell_type": "markdown",
      "metadata": {
        "id": "view-in-github",
        "colab_type": "text"
      },
      "source": [
        "<a href=\"https://colab.research.google.com/github/Elmhdi/hello-world/blob/main/G2_project.ipynb\" target=\"_parent\"><img src=\"https://colab.research.google.com/assets/colab-badge.svg\" alt=\"Open In Colab\"/></a>"
      ]
    },
    {
      "cell_type": "markdown",
      "metadata": {
        "id": "rovmKnmcVy3z"
      },
      "source": [
        "**Unit Conversion**"
      ]
    },
    {
      "cell_type": "code",
      "metadata": {
        "id": "1QnzItKuV8AC",
        "colab": {
          "base_uri": "https://localhost:8080/"
        },
        "outputId": "31d8922f-ddf9-4941-9c7f-71e0bb849907"
      },
      "source": [
        "# Unit Conversion \n",
        "\n",
        "# Temperaature SI unit _Kelvin (K)\n",
        "# Temerature English unit _Fahrenheit (F)\n",
        "# Length English unit _Feet (ft)\n",
        "# Length SI unit _Meter (m)\n",
        "\n",
        "def print_menu():\n",
        "  print('1.Fahrenheit to Kelvin')\n",
        "  print('2. Feet to Meter')\n",
        "\n",
        "  # Convert from English unit to SI unit\n",
        "\n",
        "def F_K():\n",
        "  F = float(input('Enter the Temperature Value in Fahrenheit:  '))\n",
        "  K = ((F-32)*5/9+273.15)\n",
        "  #print(\"Temperature in Kelvin is %d\" %K)\n",
        "\n",
        "def ft_m():\n",
        "  ft = float(input('Enter the Length value in Feet:  '))\n",
        "  m  =  (ft*0.3048)\n",
        "  #print(\"Length in Meter is %d\" %m)\n",
        "\n",
        "print_menu()\n",
        "option = input('In which unit you would like to see the result?: ') \n",
        "\n",
        "# Choose 1 or 2\n",
        "while(True):\n",
        "   try:\n",
        "    if option =='1':\n",
        "     print(\"Temperature in Kelvin is %d\" %K)\n",
        "    elif option =='2':\n",
        "     print(\"Length in Meter is %d\" %m)\n",
        "     break\n",
        "    else:\n",
        "     print(\"Out of selection\")\n",
        "   except:\n",
        "        print('oops! Wrong insert of selection!')\n",
        "        pass"
      ],
      "execution_count": null,
      "outputs": [
        {
          "metadata": {
            "tags": null
          },
          "name": "stdout",
          "output_type": "stream",
          "text": [
            "1.Fahrenheit to Kelvin\n",
            "2. Feet to Meter\n",
            "Temperature in Kelvin is 273\n",
            "None\n",
            "Temperature in Kelvin is 279\n",
            "None\n",
            "Temperature in Kelvin is 256\n",
            "None\n",
            "Temperature in Kelvin is 273\n",
            "None\n",
            "Temperature in Kelvin is 273\n",
            "None\n",
            "oops! Wrong insert of selection!\n",
            "oops! Wrong insert of selection!\n",
            "oops! Wrong insert of selection!\n",
            "oops! Wrong insert of selection!\n",
            "oops! Wrong insert of selection!\n",
            "oops! Wrong insert of selection!\n",
            "oops! Wrong insert of selection!\n",
            "oops! Wrong insert of selection!\n",
            "oops! Wrong insert of selection!\n",
            "oops! Wrong insert of selection!\n",
            "oops! Wrong insert of selection!\n",
            "oops! Wrong insert of selection!\n"
          ]
        }
      ]
    },
    {
      "cell_type": "code",
      "metadata": {
        "colab": {
          "base_uri": "https://localhost:8080/"
        },
        "id": "DYt0aEtKfurl",
        "outputId": "9f201fd9-0282-4718-cde8-2b5838343fb1"
      },
      "source": [
        "def print_menu():\n",
        "  print('3.Kelvin to Fahrenheit')\n",
        "  print('4.Meter to Feet')\n",
        "\n",
        "   # Convert from SI unit to English unit\n",
        "\n",
        "def K_F():\n",
        "  K = float(input('Enter the Temperature Value in Kelvin:  '))\n",
        "  F = (9/5*(K-273+32))\n",
        "  print(\"Temperature in Fahrenheit is %d\" %F)\n",
        "\n",
        "def m_ft():\n",
        "  m =  float(input('Enter the Length Value in Meter:  '))\n",
        "  ft = (3.281*m) \n",
        "  print(\"Length in Meter is %d\" %ft)\n",
        "\n",
        "\n",
        "print_menu()\n",
        "option = input('In which unit you would like to see the result?: ') \n",
        "\n",
        "# Choose 3 or 4\n",
        "\n",
        "if option =='3':\n",
        "  K_F()\n",
        "elif option =='4':\n",
        "  m_ft()\n",
        "else:\n",
        "    print (\"Out of selection\")\n"
      ],
      "execution_count": null,
      "outputs": [
        {
          "output_type": "stream",
          "name": "stdout",
          "text": [
            "3.Kelvin to Fahrenheit\n",
            "4.Meter to Feet\n",
            "In which unit you would like to see the result?: 4\n",
            "Enter the Length Value in Meter:  44\n",
            "Length in Meter is 144\n"
          ]
        }
      ]
    }
  ]
}