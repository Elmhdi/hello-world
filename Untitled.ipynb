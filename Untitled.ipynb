{
  "nbformat": 4,
  "nbformat_minor": 0,
  "metadata": {
    "colab": {
      "name": "Untitled",
      "provenance": [],
      "collapsed_sections": [],
      "authorship_tag": "ABX9TyPYOHlJOS7bfxjK9HbgGOfo",
      "include_colab_link": true
    },
    "kernelspec": {
      "name": "python3",
      "display_name": "Python 3"
    },
    "language_info": {
      "name": "python"
    }
  },
  "cells": [
    {
      "cell_type": "markdown",
      "metadata": {
        "id": "view-in-github",
        "colab_type": "text"
      },
      "source": [
        "<a href=\"https://colab.research.google.com/github/Elmhdi/hello-world/blob/main/Untitled.ipynb\" target=\"_parent\"><img src=\"https://colab.research.google.com/assets/colab-badge.svg\" alt=\"Open In Colab\"/></a>"
      ]
    },
    {
      "cell_type": "code",
      "metadata": {
        "colab": {
          "base_uri": "https://localhost:8080/"
        },
        "id": "8n3BScgdv-x-",
        "outputId": "b45231ac-69da-4998-c55e-c12a7f423cc5"
      },
      "source": [
        "# Exercise\n",
        "# What volume does 41.2 g of CO2 gas at a pressure \n",
        "# of p atm and a teperature of 514 k cccupy?\n",
        "# Given : R = 0.08206 l (atm)/k (mol)\n",
        "Mw = 44.01\n",
        "m = 41.2\n",
        "p = [51, 82, 22, 54, 71, 78, 48, 34, 48, 10]\n",
        "T = 514\n",
        "R = 0.08206\n",
        "n = m/Mw\n",
        "for i in p:\n",
        "  V = n*R*T/i\n",
        "  print('Volume at p = %d atm is %0.3f L'%(i,V))"
      ],
      "execution_count": null,
      "outputs": [
        {
          "output_type": "stream",
          "name": "stdout",
          "text": [
            "Volume at p = 51 atm is 0.774 L\n",
            "Volume at p = 82 atm is 0.482 L\n",
            "Volume at p = 22 atm is 1.795 L\n",
            "Volume at p = 54 atm is 0.731 L\n",
            "Volume at p = 71 atm is 0.556 L\n",
            "Volume at p = 78 atm is 0.506 L\n",
            "Volume at p = 48 atm is 0.823 L\n",
            "Volume at p = 34 atm is 1.161 L\n",
            "Volume at p = 48 atm is 0.823 L\n",
            "Volume at p = 10 atm is 3.949 L\n"
          ]
        }
      ]
    },
    {
      "cell_type": "code",
      "metadata": {
        "colab": {
          "base_uri": "https://localhost:8080/"
        },
        "id": "CN0tACw41wZI",
        "outputId": "e01915dc-429e-4da4-f9d9-ee6ad9f2ce6f"
      },
      "source": [
        "x = [1, 2, 3, 4]\n",
        "print (x[2])"
      ],
      "execution_count": null,
      "outputs": [
        {
          "output_type": "stream",
          "name": "stdout",
          "text": [
            "3\n"
          ]
        }
      ]
    }
  ]
}