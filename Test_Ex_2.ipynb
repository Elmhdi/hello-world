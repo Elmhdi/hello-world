{
  "nbformat": 4,
  "nbformat_minor": 0,
  "metadata": {
    "colab": {
      "name": "Test Ex-2.ipynb",
      "provenance": [],
      "collapsed_sections": [],
      "authorship_tag": "ABX9TyMDWaQiFiiX/nbjuVbQyt1M",
      "include_colab_link": true
    },
    "kernelspec": {
      "name": "python3",
      "display_name": "Python 3"
    },
    "language_info": {
      "name": "python"
    }
  },
  "cells": [
    {
      "cell_type": "markdown",
      "metadata": {
        "id": "view-in-github",
        "colab_type": "text"
      },
      "source": [
        "<a href=\"https://colab.research.google.com/github/Elmhdi/hello-world/blob/main/Test_Ex_2.ipynb\" target=\"_parent\"><img src=\"https://colab.research.google.com/assets/colab-badge.svg\" alt=\"Open In Colab\"/></a>"
      ]
    },
    {
      "cell_type": "markdown",
      "metadata": {
        "id": "K-7vs7o1zqnX"
      },
      "source": [
        "**Topic 4**"
      ]
    },
    {
      "cell_type": "code",
      "metadata": {
        "colab": {
          "base_uri": "https://localhost:8080/"
        },
        "id": "XRhTq7rbzxUl",
        "outputId": "0d0cccd7-ec65-45a3-c11c-9225a8b31045"
      },
      "source": [
        "import numpy as np\n",
        "\n",
        "def V(h,R):\n",
        "  return (np.pi)*(h**2)*((3*R-h)/3)\n",
        "\n",
        "while(True):\n",
        "  try:\n",
        "    print('\\n======== MENEU ========')\n",
        "    print('[1] - Enter Depth')\n",
        "    print('[2] - Enter Radius')\n",
        "    print('[3] - Caculate Volume')\n",
        "    print('[4] - Exit')\n",
        "    opt = int(input('option: '))\n",
        "    if opt == 1:\n",
        "      input_h = float(input('Depth of water in the tank, h(m) = '))\n",
        "    elif opt == 2:\n",
        "      input_R = float(input('Radius of the tank, R(m) = '))\n",
        "    elif opt == 3:\n",
        "      ans = V(input_h,input_R)\n",
        "      print('Volume of the water in the tank = %0.3f m3'%ans)\n",
        "    elif opt == 4:\n",
        "      print('Exited . Thank you.')\n",
        "      break\n",
        "    else:\n",
        "        print('Out of selections!')\n",
        "  except:\n",
        "        print('oops! Wrong insert of selection!')\n",
        "        pass\n",
        "\n",
        "\n"
      ],
      "execution_count": 7,
      "outputs": [
        {
          "output_type": "stream",
          "name": "stdout",
          "text": [
            "\n",
            "======== MENEU ========\n",
            "[1] - Enter Depth\n",
            "[2] - Enter Radius\n",
            "[3] - Caculate Volume\n",
            "[4] - Exit\n",
            "option: 1\n",
            "Depth of water in the tank, h(m) = 20\n",
            "\n",
            "======== MENEU ========\n",
            "[1] - Enter Depth\n",
            "[2] - Enter Radius\n",
            "[3] - Caculate Volume\n",
            "[4] - Exit\n",
            "option: 2\n",
            "Radius of the tank, R(m) = 10\n",
            "\n",
            "======== MENEU ========\n",
            "[1] - Enter Depth\n",
            "[2] - Enter Radius\n",
            "[3] - Caculate Volume\n",
            "[4] - Exit\n",
            "option: 3\n",
            "Volume of the water in the tank = 4188.790 m3\n",
            "\n",
            "======== MENEU ========\n",
            "[1] - Enter Depth\n",
            "[2] - Enter Radius\n",
            "[3] - Caculate Volume\n",
            "[4] - Exit\n",
            "option: 4\n",
            "Exited . Thank you.\n"
          ]
        }
      ]
    }
  ]
}