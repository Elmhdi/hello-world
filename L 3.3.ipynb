{
  "nbformat": 4,
  "nbformat_minor": 0,
  "metadata": {
    "colab": {
      "name": "Untitled6.ipynb",
      "provenance": [],
      "collapsed_sections": [],
      "authorship_tag": "ABX9TyONesjeRAOd6dw9ZzH00CYU",
      "include_colab_link": true
    },
    "kernelspec": {
      "name": "python3",
      "display_name": "Python 3"
    },
    "language_info": {
      "name": "python"
    }
  },
  "cells": [
    {
      "cell_type": "markdown",
      "metadata": {
        "id": "view-in-github",
        "colab_type": "text"
      },
      "source": [
        "<a href=\"https://colab.research.google.com/github/Elmhdi/hello-world/blob/main/L%203.3.ipynb\" target=\"_parent\"><img src=\"https://colab.research.google.com/assets/colab-badge.svg\" alt=\"Open In Colab\"/></a>"
      ]
    },
    {
      "cell_type": "code",
      "metadata": {
        "id": "M6PuGq-lnAD7"
      },
      "source": [
        "a = 0;"
      ],
      "execution_count": null,
      "outputs": []
    },
    {
      "cell_type": "code",
      "metadata": {
        "colab": {
          "base_uri": "https://localhost:8080/"
        },
        "id": "yCHn2RNSnGOP",
        "outputId": "28364ef5-ccb4-4610-f1b6-08dec0ca4309"
      },
      "source": [
        "xlist = [51, 82, 22, 54, 71, 78, 48, 34, 48, 10]\n",
        "counter = 0\n",
        "\n",
        "for x in xlist:\n",
        "  if x % 2 != 0:\n",
        "    counter += 1\n",
        "print(\" Total odd number in the list is\", counter) \n"
      ],
      "execution_count": 5,
      "outputs": [
        {
          "output_type": "stream",
          "name": "stdout",
          "text": [
            " Total odd number in the list is 2\n"
          ]
        }
      ]
    },
    {
      "cell_type": "code",
      "metadata": {
        "colab": {
          "base_uri": "https://localhost:8080/"
        },
        "id": "fr9fB598oXLM",
        "outputId": "00fc435d-4739-4b39-8e89-e1bcbb0b3b67"
      },
      "source": [
        "a,b,count = 0,100,0\n",
        "for i in range(a,b):\n",
        "  if i > 1:\n",
        "    for j in range (2,i):\n",
        "      if i%j == 0:\n",
        "        break\n",
        "    else:\n",
        "     print('%d is prime number' %i)\n",
        "     count += 1\n",
        "     print ('Total prime number is %d' %count)"
      ],
      "execution_count": 4,
      "outputs": [
        {
          "output_type": "stream",
          "name": "stdout",
          "text": [
            "2 is prime number\n",
            "Total prime number is 1\n",
            "3 is prime number\n",
            "Total prime number is 2\n",
            "5 is prime number\n",
            "Total prime number is 3\n",
            "7 is prime number\n",
            "Total prime number is 4\n",
            "11 is prime number\n",
            "Total prime number is 5\n",
            "13 is prime number\n",
            "Total prime number is 6\n",
            "17 is prime number\n",
            "Total prime number is 7\n",
            "19 is prime number\n",
            "Total prime number is 8\n",
            "23 is prime number\n",
            "Total prime number is 9\n",
            "29 is prime number\n",
            "Total prime number is 10\n",
            "31 is prime number\n",
            "Total prime number is 11\n",
            "37 is prime number\n",
            "Total prime number is 12\n",
            "41 is prime number\n",
            "Total prime number is 13\n",
            "43 is prime number\n",
            "Total prime number is 14\n",
            "47 is prime number\n",
            "Total prime number is 15\n",
            "53 is prime number\n",
            "Total prime number is 16\n",
            "59 is prime number\n",
            "Total prime number is 17\n",
            "61 is prime number\n",
            "Total prime number is 18\n",
            "67 is prime number\n",
            "Total prime number is 19\n",
            "71 is prime number\n",
            "Total prime number is 20\n",
            "73 is prime number\n",
            "Total prime number is 21\n",
            "79 is prime number\n",
            "Total prime number is 22\n",
            "83 is prime number\n",
            "Total prime number is 23\n",
            "89 is prime number\n",
            "Total prime number is 24\n",
            "97 is prime number\n",
            "Total prime number is 25\n"
          ]
        }
      ]
    }
  ]
}