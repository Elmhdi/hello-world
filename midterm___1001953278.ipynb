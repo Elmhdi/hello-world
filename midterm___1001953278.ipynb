{
  "nbformat": 4,
  "nbformat_minor": 0,
  "metadata": {
    "colab": {
      "name": "midterm _ 1001953278.ipynb",
      "provenance": [],
      "collapsed_sections": [],
      "authorship_tag": "ABX9TyMgBbgZzVSERzaAy0u02h5d",
      "include_colab_link": true
    },
    "kernelspec": {
      "name": "python3",
      "display_name": "Python 3"
    },
    "language_info": {
      "name": "python"
    }
  },
  "cells": [
    {
      "cell_type": "markdown",
      "metadata": {
        "id": "view-in-github",
        "colab_type": "text"
      },
      "source": [
        "<a href=\"https://colab.research.google.com/github/Elmhdi/hello-world/blob/main/midterm___1001953278.ipynb\" target=\"_parent\"><img src=\"https://colab.research.google.com/assets/colab-badge.svg\" alt=\"Open In Colab\"/></a>"
      ]
    },
    {
      "cell_type": "code",
      "metadata": {
        "id": "YeeErLarCPpq"
      },
      "source": [
        ""
      ],
      "execution_count": null,
      "outputs": []
    },
    {
      "cell_type": "markdown",
      "metadata": {
        "id": "FHEkRUnDCYfz"
      },
      "source": [
        "**Question(1)**"
      ]
    },
    {
      "cell_type": "code",
      "metadata": {
        "colab": {
          "base_uri": "https://localhost:8080/"
        },
        "id": "zSBaTw7zCfI7",
        "outputId": "43b16ce2-e280-46f0-ffb2-979c42e6e7a5"
      },
      "source": [
        "T = 273 #k\n",
        "n = 0.83\n",
        "v = 27.42\n",
        "R = 0.08206\n",
        "A = 0.335\n",
        "B = 0.981\n",
        "\n",
        "p = (((n*R*T)/(v-(n*B)))-(A*n**2/(v**2)))\n",
        "\n",
        "A = float(input('value of A = '))\n",
        "B = float(input('value of B = '))\n",
        "\n",
        "print('The pressure is %0.3f'%p)\n",
        "\n"
      ],
      "execution_count": 1,
      "outputs": [
        {
          "output_type": "stream",
          "name": "stdout",
          "text": [
            "value of A = 0.335\n",
            "value of B = 0.981\n",
            "The pressure is 0.699\n"
          ]
        }
      ]
    },
    {
      "cell_type": "markdown",
      "metadata": {
        "id": "eZLLL4X6FF45"
      },
      "source": [
        "**Question (2)**"
      ]
    },
    {
      "cell_type": "code",
      "metadata": {
        "colab": {
          "base_uri": "https://localhost:8080/"
        },
        "id": "jZxl2WvSE0Ej",
        "outputId": "917aa1ef-4441-4139-85e0-a587a6ba5d52"
      },
      "source": [
        "import math as m\n",
        "A = 7\n",
        "B = 103\n",
        "for num in range(7,103):\n",
        "  if num>1:\n",
        "   for i in range (2,num):\n",
        "    if num%i==0:\n",
        "      break\n",
        "  else:\n",
        "   print('%d is pirme number'%num)\n",
        "   x = m.sin(num)\n",
        "   count = 0\n",
        "  if x>0:\n",
        "    count = count+1\n",
        "print('The Total prime number with positive sine value is %d'%count)\n"
      ],
      "execution_count": 31,
      "outputs": [
        {
          "output_type": "stream",
          "name": "stdout",
          "text": [
            "The Total prime number with positive sine value is 97\n"
          ]
        }
      ]
    },
    {
      "cell_type": "code",
      "metadata": {
        "colab": {
          "base_uri": "https://localhost:8080/",
          "height": 273
        },
        "id": "6H7K0l7-JwqR",
        "outputId": "fc958dc7-ba73-4779-ae6a-19f5076c68db"
      },
      "source": [
        "## Question 2\n",
        "import math as m\n",
        "A = 7\n",
        "B = 103\n",
        "\n",
        "def prime_number(n):\n",
        "    for i in range(2, n):\n",
        "        if n % i == 0:\n",
        "            return False\n",
        "\n",
        "    return True\n",
        "\n",
        "p_numbers = []\n",
        "possibility = 0\n",
        "A = int(input(\"Enter value of A: \"))\n",
        "B = int(input(\"Enter value of B: \"))\n",
        "\n",
        "for i in range(A, B):\n",
        "    check = prime_number(i)\n",
        "    if check:\n",
        "        p_numbers.append(i)\n",
        "\n",
        "      x= m.sine(i)\n",
        "        if sine > 0:\n",
        "            possibility += 1\n",
        "\n",
        "print(\"Prime numbers: {}\".format(p_numbers))\n",
        "print(\"Possibility for positive value of Cosine of prime numbers: {}\".format(possibility))\n",
        "\n"
      ],
      "execution_count": 41,
      "outputs": [
        {
          "name": "stdout",
          "output_type": "stream",
          "text": [
            "Enter value of A: 7\n",
            "Enter value of B: 103\n"
          ]
        },
        {
          "output_type": "error",
          "ename": "AttributeError",
          "evalue": "ignored",
          "traceback": [
            "\u001b[0;31m---------------------------------------------------------------------------\u001b[0m",
            "\u001b[0;31mAttributeError\u001b[0m                            Traceback (most recent call last)",
            "\u001b[0;32m<ipython-input-41-0ff24fbc6299>\u001b[0m in \u001b[0;36m<module>\u001b[0;34m()\u001b[0m\n\u001b[1;32m     20\u001b[0m         \u001b[0mp_numbers\u001b[0m\u001b[0;34m.\u001b[0m\u001b[0mappend\u001b[0m\u001b[0;34m(\u001b[0m\u001b[0mi\u001b[0m\u001b[0;34m)\u001b[0m\u001b[0;34m\u001b[0m\u001b[0;34m\u001b[0m\u001b[0m\n\u001b[1;32m     21\u001b[0m \u001b[0;34m\u001b[0m\u001b[0m\n\u001b[0;32m---> 22\u001b[0;31m         \u001b[0mx\u001b[0m\u001b[0;34m=\u001b[0m \u001b[0mm\u001b[0m\u001b[0;34m.\u001b[0m\u001b[0msine\u001b[0m\u001b[0;34m(\u001b[0m\u001b[0mi\u001b[0m\u001b[0;34m)\u001b[0m\u001b[0;34m\u001b[0m\u001b[0;34m\u001b[0m\u001b[0m\n\u001b[0m\u001b[1;32m     23\u001b[0m         \u001b[0;32mif\u001b[0m \u001b[0msine\u001b[0m \u001b[0;34m>\u001b[0m \u001b[0;36m0\u001b[0m\u001b[0;34m:\u001b[0m\u001b[0;34m\u001b[0m\u001b[0;34m\u001b[0m\u001b[0m\n\u001b[1;32m     24\u001b[0m             \u001b[0mpossibility\u001b[0m \u001b[0;34m+=\u001b[0m \u001b[0;36m1\u001b[0m\u001b[0;34m\u001b[0m\u001b[0;34m\u001b[0m\u001b[0m\n",
            "\u001b[0;31mAttributeError\u001b[0m: module 'math' has no attribute 'sine'"
          ]
        }
      ]
    }
  ]
}